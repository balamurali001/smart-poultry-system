{
 "cells": [
  {
   "cell_type": "code",
   "execution_count": 84,
   "id": "53009c20",
   "metadata": {},
   "outputs": [],
   "source": [
    "from sklearn.impute import SimpleImputer\n",
    "from sklearn.preprocessing import StandardScaler\n",
    "from sklearn.model_selection import train_test_split\n",
    "from sklearn.pipeline import  Pipeline\n",
    "from sklearn.preprocessing import LabelEncoder\n",
    "import pandas as pd\n",
    "import torch\n",
    "import numpy as np\n",
    "import matplotlib.pyplot as plt\n",
    "import joblib"
   ]
  },
  {
   "cell_type": "code",
   "execution_count": 85,
   "id": "b6052aa2",
   "metadata": {},
   "outputs": [
    {
     "data": {
      "text/plain": [
       "device(type='cuda')"
      ]
     },
     "execution_count": 85,
     "metadata": {},
     "output_type": "execute_result"
    }
   ],
   "source": [
    "device = torch.device('cuda' if torch.cuda.is_available() else 'cpu')\n",
    "device"
   ]
  },
  {
   "cell_type": "code",
   "execution_count": 86,
   "id": "cfe4fedd",
   "metadata": {},
   "outputs": [
    {
     "data": {
      "text/html": [
       "<div>\n",
       "<style scoped>\n",
       "    .dataframe tbody tr th:only-of-type {\n",
       "        vertical-align: middle;\n",
       "    }\n",
       "\n",
       "    .dataframe tbody tr th {\n",
       "        vertical-align: top;\n",
       "    }\n",
       "\n",
       "    .dataframe thead th {\n",
       "        text-align: right;\n",
       "    }\n",
       "</style>\n",
       "<table border=\"1\" class=\"dataframe\">\n",
       "  <thead>\n",
       "    <tr style=\"text-align: right;\">\n",
       "      <th></th>\n",
       "      <th>Temperature</th>\n",
       "      <th>Humidity</th>\n",
       "      <th>AQI</th>\n",
       "      <th>WQI</th>\n",
       "      <th>Humidex</th>\n",
       "    </tr>\n",
       "  </thead>\n",
       "  <tbody>\n",
       "    <tr>\n",
       "      <th>0</th>\n",
       "      <td>29.3</td>\n",
       "      <td>51.7</td>\n",
       "      <td>21.957796</td>\n",
       "      <td>95.950538</td>\n",
       "      <td>35.016212</td>\n",
       "    </tr>\n",
       "    <tr>\n",
       "      <th>1</th>\n",
       "      <td>29.3</td>\n",
       "      <td>52.3</td>\n",
       "      <td>8.731716</td>\n",
       "      <td>88.559769</td>\n",
       "      <td>35.822153</td>\n",
       "    </tr>\n",
       "    <tr>\n",
       "      <th>2</th>\n",
       "      <td>29.3</td>\n",
       "      <td>52.5</td>\n",
       "      <td>8.402340</td>\n",
       "      <td>93.361755</td>\n",
       "      <td>34.277358</td>\n",
       "    </tr>\n",
       "    <tr>\n",
       "      <th>3</th>\n",
       "      <td>29.3</td>\n",
       "      <td>49.7</td>\n",
       "      <td>14.466574</td>\n",
       "      <td>98.947226</td>\n",
       "      <td>33.320641</td>\n",
       "    </tr>\n",
       "    <tr>\n",
       "      <th>4</th>\n",
       "      <td>29.2</td>\n",
       "      <td>51.4</td>\n",
       "      <td>15.774947</td>\n",
       "      <td>94.584586</td>\n",
       "      <td>30.619136</td>\n",
       "    </tr>\n",
       "  </tbody>\n",
       "</table>\n",
       "</div>"
      ],
      "text/plain": [
       "   Temperature  Humidity        AQI        WQI    Humidex\n",
       "0         29.3      51.7  21.957796  95.950538  35.016212\n",
       "1         29.3      52.3   8.731716  88.559769  35.822153\n",
       "2         29.3      52.5   8.402340  93.361755  34.277358\n",
       "3         29.3      49.7  14.466574  98.947226  33.320641\n",
       "4         29.2      51.4  15.774947  94.584586  30.619136"
      ]
     },
     "execution_count": 86,
     "metadata": {},
     "output_type": "execute_result"
    }
   ],
   "source": [
    "df = pd.read_csv(\"tempdata.csv\")\n",
    "df.drop(\"Amount_of_chicken\",axis=1,inplace=True)\n",
    "df.head()"
   ]
  },
  {
   "cell_type": "code",
   "execution_count": 87,
   "id": "d50315a1",
   "metadata": {},
   "outputs": [],
   "source": [
    "X = df.drop(\"Humidex\",axis=1)\n",
    "y= df[\"Humidex\"]"
   ]
  },
  {
   "cell_type": "code",
   "execution_count": 91,
   "id": "3b12c6fb",
   "metadata": {},
   "outputs": [],
   "source": [
    "# 1. Split first\n",
    "X_train, X_val, y_train, y_val = train_test_split(X, y, test_size=0.2, random_state=42)\n",
    "\n",
    "# 2. Then fit preprocessing only on training data\n",
    "preprocessor_feature = Pipeline([\n",
    "    (\"imputer\", SimpleImputer(strategy=\"median\")),\n",
    "    (\"scaler\", StandardScaler())\n",
    "])\n",
    "\n",
    "preprocessor_label = Pipeline([\n",
    "    (\"imputer\", SimpleImputer(strategy=\"median\")),\n",
    "    (\"scaler\", StandardScaler())\n",
    "])\n",
    "\n",
    "\n",
    "\n",
    "X_train_processed = preprocessor_feature.fit_transform(X_train)\n",
    "y_train_processed = preprocessor_label.fit_transform(y_train.values.reshape(-1, 1)).flatten()"
   ]
  },
  {
   "cell_type": "markdown",
   "id": "8302bf9e",
   "metadata": {},
   "source": [
    "## Saving the label encoder and preprocessor"
   ]
  },
  {
   "cell_type": "code",
   "execution_count": 92,
   "id": "39d32e26",
   "metadata": {},
   "outputs": [
    {
     "data": {
      "text/plain": [
       "['artifacts/preprocessor_label.joblib']"
      ]
     },
     "execution_count": 92,
     "metadata": {},
     "output_type": "execute_result"
    }
   ],
   "source": [
    "# Save the fitted LabelEncoder\n",
    "joblib.dump(preprocessor_feature,'artifacts/preprocessor_feature.joblib')\n",
    "joblib.dump(preprocessor_label,'artifacts/preprocessor_label.joblib')\n",
    "\n"
   ]
  },
  {
   "cell_type": "markdown",
   "id": "84cc6d49",
   "metadata": {},
   "source": [
    "## Loading the label encoder"
   ]
  },
  {
   "cell_type": "code",
   "execution_count": 93,
   "id": "8826c020",
   "metadata": {},
   "outputs": [],
   "source": [
    "# Load the LabelEncoder\n",
    "preprocessor_feature = joblib.load('artifacts/preprocessor_feature.joblib')\n",
    "preprocessor_label = joblib.load('artifacts/preprocessor_label.joblib')"
   ]
  },
  {
   "cell_type": "code",
   "execution_count": 94,
   "id": "24227659",
   "metadata": {},
   "outputs": [],
   "source": [
    "X_val_processed = preprocessor_feature.transform(X_val)\n",
    "y_val_processed = preprocessor_label.transform(y_val.values.reshape(-1, 1)).flatten()\n"
   ]
  },
  {
   "cell_type": "code",
   "execution_count": 95,
   "id": "73fe557c",
   "metadata": {},
   "outputs": [],
   "source": [
    "from torch.utils.data import  DataLoader, Dataset\n",
    "## Create DataSetClass\n",
    "\n",
    "class TabularDataset(Dataset):\n",
    "    def __init__(self,X,y):\n",
    "        self.X = torch.tensor(X, dtype=torch.float32)\n",
    "        self.y = torch.tensor(y.values if isinstance(y,pd.Series) else y,dtype=torch.float32)\n",
    "\n",
    "    def __len__(self):\n",
    "        return len(self.X)\n",
    "\n",
    "    def __getitem__(self,idx):\n",
    "        return self.X[idx],self.y[idx]"
   ]
  },
  {
   "cell_type": "code",
   "execution_count": 96,
   "id": "d7af13c5",
   "metadata": {},
   "outputs": [],
   "source": [
    "train_dataset = TabularDataset(X_train_processed,y_train)\n",
    "val_dataset = TabularDataset(X_val_processed,y_val)\n",
    "\n",
    "\n",
    "train_loader = DataLoader(train_dataset, batch_size=64, shuffle=True)\n",
    "val_loader = DataLoader(val_dataset, batch_size=64, shuffle=False)"
   ]
  },
  {
   "cell_type": "code",
   "execution_count": 97,
   "id": "4e6abe46",
   "metadata": {},
   "outputs": [],
   "source": [
    "class EarlyStopping():\n",
    "    def __init__(self,patience=5,min_delta=1e-2,restore_best_weights=True):\n",
    "        self.patience = patience\n",
    "        self.min_delta = min_delta\n",
    "        self.restore_best_weights = restore_best_weights\n",
    "        self.best_model_weights = None\n",
    "        self.best_epoch = None\n",
    "        self.best_loss = float('inf')\n",
    "        self.counter = 0\n",
    "        self.early_stop = False\n",
    "\n",
    "    def __call__(self, model, val_loss, epoch):\n",
    "        if val_loss < self.best_loss - self.min_delta:\n",
    "            self.best_loss = val_loss\n",
    "            self.counter = 0\n",
    "            self.best_model_weights = model.state_dict()\n",
    "            self.best_epoch = epoch\n",
    "            print(f\"Current Best model found at epoch {epoch} with loss {val_loss:.4f}.\")\n",
    "        else:\n",
    "            self.counter +=1\n",
    "            print(f\"Validation Loss: {val_loss:.4f} did not improve compared to best loss: {self.best_loss:.4f}. Counter: {self.counter}/{self.patience}\")\n",
    "            if self.counter >= self.patience:\n",
    "                self.early_stop=True\n",
    "                print(f\"Early stopping triggered after {self.counter} checks without improvement.\")\n",
    "                if self.restore_best_weights and self.best_model_weights is not None:\n",
    "                    model.load_state_dict(self.best_model_weights)\n",
    "\n",
    "    def getBestModel(self,model):\n",
    "        if self.restore_best_weights and self.best_model_weights is not None:\n",
    "            print(f\"✅ Restoring best model from epoch {self.best_epoch} with loss {self.best_loss:.4f}\")\n",
    "            model.load_state_dict(self.best_model_weights)"
   ]
  },
  {
   "cell_type": "code",
   "execution_count": 113,
   "id": "e7e8ff92",
   "metadata": {},
   "outputs": [],
   "source": [
    "import torch.nn as nn\n",
    "\n",
    "class TabularNet(nn.Module):\n",
    "    def __init__(self, input_dim, output_dim):\n",
    "        super(TabularNet, self).__init__()\n",
    "        self.net = nn.Sequential(\n",
    "            nn.Linear(input_dim, 128),\n",
    "            # nn.BatchNorm1d(128),\n",
    "            nn.ReLU(),\n",
    "            nn.Dropout(0.3),\n",
    "            nn.Linear(128, 64),\n",
    "            # nn.BatchNorm1d(64),\n",
    "            nn.ReLU(),\n",
    "            nn.Dropout(0.3),\n",
    "            nn.Linear(64, 32),\n",
    "            nn.ReLU(),\n",
    "            nn.Linear(32, output_dim)\n",
    "        )\n",
    "\n",
    "    def forward(self, x):\n",
    "        return self.net(x)\n",
    "\n",
    "model = TabularNet(input_dim=4, output_dim=1).to(\"cuda\" if torch.cuda.is_available() else \"cpu\")\n"
   ]
  },
  {
   "cell_type": "markdown",
   "id": "f0f56762",
   "metadata": {},
   "source": [
    "#### Get Helper Functions"
   ]
  },
  {
   "cell_type": "code",
   "execution_count": 114,
   "id": "fd9d66a8",
   "metadata": {},
   "outputs": [],
   "source": [
    "def calculate_mae(y_true, y_pred):\n",
    "    return torch.mean(torch.abs(y_true - y_pred)).item()"
   ]
  },
  {
   "cell_type": "markdown",
   "id": "38f426a8",
   "metadata": {},
   "source": [
    "### Defining Train Test Loops"
   ]
  },
  {
   "cell_type": "code",
   "execution_count": 115,
   "id": "a00cf945",
   "metadata": {},
   "outputs": [
    {
     "name": "stdout",
     "output_type": "stream",
     "text": [
      "Sample MAE: 33.7478\n"
     ]
    }
   ],
   "source": [
    "model.eval()\n",
    "## Run a sample batch and use calulate mae\n",
    "sample_batch = next(iter(val_loader))\n",
    "X_sample, y_sample = sample_batch\n",
    "X_sample = X_sample.to(device)\n",
    "y_sample = y_sample.to(device)\n",
    "y_pred = model(X_sample).squeeze()\n",
    "mae = calculate_mae(y_sample, y_pred)\n",
    "print(f\"Sample MAE: {mae:.4f}\")"
   ]
  },
  {
   "cell_type": "code",
   "execution_count": 116,
   "id": "2e49ba52",
   "metadata": {},
   "outputs": [],
   "source": [
    "train_loss_arr=[]\n",
    "train_mae_arr=[]\n",
    "\n",
    "test_loss_arr=[]\n",
    "test_mae_arr=[]"
   ]
  },
  {
   "cell_type": "code",
   "execution_count": 117,
   "id": "571fc56d",
   "metadata": {},
   "outputs": [],
   "source": [
    "def train_step(model:nn.Module,\n",
    "               dataloader:torch.utils.data.DataLoader,\n",
    "               loss_fn:torch.nn.Module,\n",
    "               optimizer:torch.optim.Optimizer,\n",
    "               device:torch.device,\n",
    "               mae_func:calculate_mae):\n",
    "\n",
    "  \"\"\"Performs a training with model trying to learn on data_loader\"\"\"\n",
    "\n",
    "  train_loss,train_mae=0,0\n",
    "  model.train()\n",
    "\n",
    "\n",
    "\n",
    "    ## Training\n",
    "\n",
    "    ## Add a loop to loop through the training batches\n",
    "  for batch,(X,y) in enumerate(dataloader):\n",
    "\n",
    "    X,y=X.to(device),y.to(device)\n",
    "\n",
    "      ## Forward pass\n",
    "    y_pred=model(X)\n",
    "\n",
    "      ## Calc the loss(per batch)\n",
    "    loss=loss_fn(y_pred,y)\n",
    "    train_loss+=loss.item()\n",
    "    train_mae+=mae_func(y,y_pred)\n",
    "\n",
    "      ## Optimizer zero grad\n",
    "    optimizer.zero_grad()\n",
    "\n",
    "      ## Loss backward\n",
    "    loss.backward()\n",
    "\n",
    "      ## Optimizer step\n",
    "    optimizer.step()\n",
    "\n",
    "\n",
    "\n",
    "  train_loss/=len(dataloader)\n",
    "  train_mae/=len(dataloader)\n",
    "\n",
    "  train_loss_arr.append(train_loss)\n",
    "  train_mae_arr.append(train_mae)\n",
    "\n",
    "  print(f\"\\n Train Loss: {train_loss:.4f}  | Train MAE: {train_mae:.4f}\")\n",
    "\n",
    "\n",
    "\n"
   ]
  },
  {
   "cell_type": "code",
   "execution_count": 118,
   "id": "25a0278d",
   "metadata": {},
   "outputs": [],
   "source": [
    "def test_step(model:nn.Module,\n",
    "               dataloader:torch.utils.data.DataLoader,\n",
    "               loss_fn:torch.nn.Module,\n",
    "               device:torch.device,\n",
    "               mae_func:calculate_mae):\n",
    "\n",
    "  \"\"\"Performs a testing with model trying to learn on data_loader\"\"\"\n",
    "\n",
    "  test_loss,test_mae=0,0\n",
    "  model.eval()\n",
    "\n",
    "  with torch.inference_mode():\n",
    "    for batch,(X,y) in enumerate(dataloader):\n",
    "\n",
    "      X,y=X.to(device),y.to(device)\n",
    "\n",
    "      ## Forward pass\n",
    "      y_pred=model(X)\n",
    "\n",
    "      ## Calc the loss(per batch)\n",
    "      loss=loss_fn(y_pred,y)\n",
    "      test_loss+=loss.item()\n",
    "      test_mae+=mae_func(y,y_pred)\n",
    "\n",
    "    test_loss/=len(dataloader)\n",
    "    test_mae/=len(dataloader)\n",
    "    test_loss_arr.append(test_loss)\n",
    "    test_mae_arr.append(test_mae)\n",
    "\n",
    "  print(f\"\\n Test Loss: {test_loss:.4f}  | Test MAE: {test_mae}\")\n",
    "\n"
   ]
  },
  {
   "cell_type": "code",
   "execution_count": 119,
   "id": "e38bfe81",
   "metadata": {},
   "outputs": [],
   "source": [
    "## Train the CNN on our dataset\n",
    "\n",
    "## Setup loss func, eval metrics, optimizer\n",
    "loss_fn=nn.MSELoss()\n",
    "optimizer=torch.optim.Adam(params=model.parameters(),\n",
    "                          lr=0.001)\n"
   ]
  },
  {
   "cell_type": "code",
   "execution_count": 120,
   "id": "948f3ec1",
   "metadata": {},
   "outputs": [
    {
     "name": "stdout",
     "output_type": "stream",
     "text": [
      "Pre-warming train data loader...\n",
      "Pre-warming test data loader...\n",
      "Both DataLoaders initialized, starting training...\n"
     ]
    }
   ],
   "source": [
    "# Pre-warm both data loaders\n",
    "print(\"Pre-warming train data loader...\")\n",
    "_ = next(iter(train_loader))  # Get first batch to warm up the loader\n",
    "\n",
    "print(\"Pre-warming test data loader...\")\n",
    "_ = next(iter(val_loader))  # Get first batch from test loader\n",
    "\n",
    "print(\"Both DataLoaders initialized, starting training...\")"
   ]
  },
  {
   "cell_type": "code",
   "execution_count": 121,
   "id": "73908ff4",
   "metadata": {},
   "outputs": [
    {
     "name": "stderr",
     "output_type": "stream",
     "text": [
      "Training Epochs:   0%|          | 3/1000 [00:00<00:40, 24.86epoch/s]"
     ]
    },
    {
     "name": "stdout",
     "output_type": "stream",
     "text": [
      "Epoch: 1\n",
      "---------\n",
      "\n",
      " Train Loss: 1116.2942  | Train MAE: 33.3521\n",
      "Epoch: 2\n",
      "---------\n",
      "\n",
      " Train Loss: 1103.5278  | Train MAE: 33.1596\n",
      "Epoch: 3\n",
      "---------\n",
      "\n",
      " Train Loss: 1084.5591  | Train MAE: 32.8725\n",
      "Epoch: 4\n",
      "---------\n",
      "\n",
      " Train Loss: 1053.7308  | Train MAE: 32.3990\n",
      "Epoch: 5\n",
      "---------\n",
      "\n",
      " Train Loss: 1003.6365  | Train MAE: 31.6127\n",
      "\n",
      " Test Loss: 994.9686  | Test MAE: 31.47138500213623\n",
      "Current Best model found at epoch 5 with loss 994.9686.\n",
      "Epoch: 6\n",
      "---------\n"
     ]
    },
    {
     "name": "stderr",
     "output_type": "stream",
     "text": [
      "Training Epochs:   1%|          | 10/1000 [00:00<00:34, 29.08epoch/s]"
     ]
    },
    {
     "name": "stdout",
     "output_type": "stream",
     "text": [
      "\n",
      " Train Loss: 930.1345  | Train MAE: 30.4234\n",
      "Epoch: 7\n",
      "---------\n",
      "\n",
      " Train Loss: 818.7077  | Train MAE: 28.5107\n",
      "Epoch: 8\n",
      "---------\n",
      "\n",
      " Train Loss: 681.4938  | Train MAE: 25.9316\n",
      "Epoch: 9\n",
      "---------\n",
      "\n",
      " Train Loss: 506.9849  | Train MAE: 22.1755\n",
      "Epoch: 10\n",
      "---------\n",
      "\n",
      " Train Loss: 320.7479  | Train MAE: 17.1951\n",
      "\n",
      " Test Loss: 239.4480  | Test MAE: 14.767307758331299\n",
      "Current Best model found at epoch 10 with loss 239.4480.\n",
      "Epoch: 11\n",
      "---------\n",
      "\n",
      " Train Loss: 163.2426  | Train MAE: 11.4523\n",
      "Epoch: 12\n",
      "---------\n",
      "\n",
      " Train Loss: 80.5573  | Train MAE: 7.3964\n",
      "Epoch: 13\n",
      "---------\n"
     ]
    },
    {
     "name": "stderr",
     "output_type": "stream",
     "text": [
      "Training Epochs:   2%|▏         | 18/1000 [00:00<00:30, 32.57epoch/s]"
     ]
    },
    {
     "name": "stdout",
     "output_type": "stream",
     "text": [
      "\n",
      " Train Loss: 79.4871  | Train MAE: 7.0677\n",
      "Epoch: 14\n",
      "---------\n",
      "\n",
      " Train Loss: 87.2849  | Train MAE: 7.3592\n",
      "Epoch: 15\n",
      "---------\n",
      "\n",
      " Train Loss: 70.9049  | Train MAE: 6.7153\n",
      "\n",
      " Test Loss: 42.5753  | Test MAE: 5.421483516693115\n",
      "Current Best model found at epoch 15 with loss 42.5753.\n",
      "Epoch: 16\n",
      "---------\n",
      "\n",
      " Train Loss: 64.0267  | Train MAE: 6.4831\n",
      "Epoch: 17\n",
      "---------\n",
      "\n",
      " Train Loss: 59.2790  | Train MAE: 6.2687\n",
      "Epoch: 18\n",
      "---------\n",
      "\n",
      " Train Loss: 64.0318  | Train MAE: 6.5534\n",
      "Epoch: 19\n",
      "---------\n",
      "\n",
      " Train Loss: 58.9424  | Train MAE: 6.3078\n",
      "Epoch: 20\n",
      "---------\n",
      "\n",
      " Train Loss: 50.1980  | Train MAE: 5.7240\n",
      "\n",
      " Test Loss: 36.2839  | Test MAE: 4.957302093505859\n",
      "Current Best model found at epoch 20 with loss 36.2839.\n",
      "Epoch: 21\n",
      "---------\n"
     ]
    },
    {
     "name": "stderr",
     "output_type": "stream",
     "text": [
      "Training Epochs:   3%|▎         | 26/1000 [00:00<00:27, 35.21epoch/s]"
     ]
    },
    {
     "name": "stdout",
     "output_type": "stream",
     "text": [
      "\n",
      " Train Loss: 56.2937  | Train MAE: 5.9788\n",
      "Epoch: 22\n",
      "---------\n",
      "\n",
      " Train Loss: 55.7921  | Train MAE: 5.9931\n",
      "Epoch: 23\n",
      "---------\n",
      "\n",
      " Train Loss: 56.3469  | Train MAE: 6.0945\n",
      "Epoch: 24\n",
      "---------\n",
      "\n",
      " Train Loss: 53.1493  | Train MAE: 5.9044\n",
      "Epoch: 25\n",
      "---------\n",
      "\n",
      " Train Loss: 54.2076  | Train MAE: 5.9736\n",
      "\n",
      " Test Loss: 31.9435  | Test MAE: 4.6251959800720215\n",
      "Current Best model found at epoch 25 with loss 31.9435.\n",
      "Epoch: 26\n",
      "---------\n",
      "\n",
      " Train Loss: 47.3812  | Train MAE: 5.6340\n",
      "Epoch: 27\n",
      "---------\n",
      "\n",
      " Train Loss: 52.4918  | Train MAE: 5.8786\n",
      "Epoch: 28\n",
      "---------\n",
      "\n",
      " Train Loss: 49.8304  | Train MAE: 5.7053\n",
      "Epoch: 29\n",
      "---------\n",
      "\n",
      " Train Loss: 49.4281  | Train MAE: 5.7598\n",
      "Epoch: 30\n",
      "---------\n"
     ]
    },
    {
     "name": "stderr",
     "output_type": "stream",
     "text": [
      "Training Epochs:   4%|▎         | 35/1000 [00:01<00:28, 34.42epoch/s]"
     ]
    },
    {
     "name": "stdout",
     "output_type": "stream",
     "text": [
      "\n",
      " Train Loss: 51.7622  | Train MAE: 5.8303\n",
      "\n",
      " Test Loss: 29.8257  | Test MAE: 4.450944900512695\n",
      "Current Best model found at epoch 30 with loss 29.8257.\n",
      "Epoch: 31\n",
      "---------\n",
      "\n",
      " Train Loss: 48.2563  | Train MAE: 5.6449\n",
      "Epoch: 32\n",
      "---------\n",
      "\n",
      " Train Loss: 49.5459  | Train MAE: 5.7009\n",
      "Epoch: 33\n",
      "---------\n",
      "\n",
      " Train Loss: 41.7996  | Train MAE: 5.1528\n",
      "Epoch: 34\n",
      "---------\n",
      "\n",
      " Train Loss: 46.8838  | Train MAE: 5.4432\n",
      "Epoch: 35\n",
      "---------\n",
      "\n",
      " Train Loss: 46.7946  | Train MAE: 5.4379\n",
      "\n",
      " Test Loss: 26.0374  | Test MAE: 4.154238700866699\n",
      "Current Best model found at epoch 35 with loss 26.0374.\n",
      "Epoch: 36\n",
      "---------\n"
     ]
    },
    {
     "name": "stderr",
     "output_type": "stream",
     "text": [
      "Training Epochs:   4%|▍         | 39/1000 [00:01<00:27, 34.39epoch/s]"
     ]
    },
    {
     "name": "stdout",
     "output_type": "stream",
     "text": [
      "\n",
      " Train Loss: 44.7124  | Train MAE: 5.4263\n",
      "Epoch: 37\n",
      "---------\n",
      "\n",
      " Train Loss: 45.2236  | Train MAE: 5.3969\n",
      "Epoch: 38\n",
      "---------\n",
      "\n",
      " Train Loss: 42.4154  | Train MAE: 5.1884\n",
      "Epoch: 39\n",
      "---------\n",
      "\n",
      " Train Loss: 43.4877  | Train MAE: 5.2939\n",
      "Epoch: 40\n",
      "---------\n",
      "\n",
      " Train Loss: 39.1813  | Train MAE: 5.0121\n",
      "\n",
      " Test Loss: 22.4640  | Test MAE: 3.857649564743042\n",
      "Current Best model found at epoch 40 with loss 22.4640.\n",
      "Epoch: 41\n",
      "---------\n",
      "\n",
      " Train Loss: 37.6150  | Train MAE: 4.9400\n",
      "Epoch: 42\n",
      "---------\n",
      "\n",
      " Train Loss: 41.3648  | Train MAE: 5.1253\n",
      "Epoch: 43\n",
      "---------\n",
      "\n",
      " Train Loss: 39.3965  | Train MAE: 5.0901\n"
     ]
    },
    {
     "name": "stderr",
     "output_type": "stream",
     "text": [
      "Training Epochs:   5%|▍         | 48/1000 [00:01<00:25, 36.91epoch/s]"
     ]
    },
    {
     "name": "stdout",
     "output_type": "stream",
     "text": [
      "Epoch: 44\n",
      "---------\n",
      "\n",
      " Train Loss: 34.5863  | Train MAE: 4.6716\n",
      "Epoch: 45\n",
      "---------\n",
      "\n",
      " Train Loss: 36.0248  | Train MAE: 4.8043\n",
      "\n",
      " Test Loss: 20.1524  | Test MAE: 3.6549371480941772\n",
      "Current Best model found at epoch 45 with loss 20.1524.\n",
      "Epoch: 46\n",
      "---------\n",
      "\n",
      " Train Loss: 40.6813  | Train MAE: 5.1467\n",
      "Epoch: 47\n",
      "---------\n",
      "\n",
      " Train Loss: 38.1867  | Train MAE: 4.9755\n",
      "Epoch: 48\n",
      "---------\n",
      "\n",
      " Train Loss: 40.5212  | Train MAE: 5.1503\n",
      "Epoch: 49\n",
      "---------\n",
      "\n",
      " Train Loss: 36.1290  | Train MAE: 4.8507\n",
      "Epoch: 50\n",
      "---------\n",
      "\n",
      " Train Loss: 36.3999  | Train MAE: 4.8323\n",
      "\n",
      " Test Loss: 17.0357  | Test MAE: 3.330140709877014\n",
      "Current Best model found at epoch 50 with loss 17.0357.\n",
      "Epoch: 51\n",
      "---------\n",
      "\n",
      " Train Loss: 36.9439  | Train MAE: 4.9105\n",
      "Epoch: 52\n",
      "---------\n",
      "\n",
      " Train Loss: 36.3710  | Train MAE: 4.9169\n",
      "Epoch: 53\n",
      "---------\n"
     ]
    },
    {
     "name": "stderr",
     "output_type": "stream",
     "text": [
      "Training Epochs:   6%|▌         | 57/1000 [00:01<00:24, 38.15epoch/s]"
     ]
    },
    {
     "name": "stdout",
     "output_type": "stream",
     "text": [
      "\n",
      " Train Loss: 35.1351  | Train MAE: 4.7802\n",
      "Epoch: 54\n",
      "---------\n",
      "\n",
      " Train Loss: 32.9206  | Train MAE: 4.6410\n",
      "Epoch: 55\n",
      "---------\n",
      "\n",
      " Train Loss: 36.2478  | Train MAE: 4.8509\n",
      "\n",
      " Test Loss: 16.1443  | Test MAE: 3.272808313369751\n",
      "Current Best model found at epoch 55 with loss 16.1443.\n",
      "Epoch: 56\n",
      "---------\n",
      "\n",
      " Train Loss: 30.3959  | Train MAE: 4.4713\n",
      "Epoch: 57\n",
      "---------\n",
      "\n",
      " Train Loss: 36.1611  | Train MAE: 4.9361\n",
      "Epoch: 58\n",
      "---------\n",
      "\n",
      " Train Loss: 32.5724  | Train MAE: 4.6148\n",
      "Epoch: 59\n",
      "---------\n",
      "\n",
      " Train Loss: 34.1501  | Train MAE: 4.7240\n",
      "Epoch: 60\n",
      "---------\n",
      "\n",
      " Train Loss: 34.3320  | Train MAE: 4.6602\n",
      "\n",
      " Test Loss: 15.2170  | Test MAE: 3.195172071456909\n",
      "Current Best model found at epoch 60 with loss 15.2170.\n",
      "Epoch: 61\n",
      "---------\n",
      "\n",
      " Train Loss: 33.6002  | Train MAE: 4.6591\n",
      "Epoch: 62\n",
      "---------\n"
     ]
    },
    {
     "name": "stderr",
     "output_type": "stream",
     "text": [
      "Training Epochs:   7%|▋         | 67/1000 [00:01<00:22, 41.18epoch/s]"
     ]
    },
    {
     "name": "stdout",
     "output_type": "stream",
     "text": [
      "\n",
      " Train Loss: 31.7570  | Train MAE: 4.5475\n",
      "Epoch: 63\n",
      "---------\n",
      "\n",
      " Train Loss: 32.0938  | Train MAE: 4.6059\n",
      "Epoch: 64\n",
      "---------\n",
      "\n",
      " Train Loss: 30.0353  | Train MAE: 4.3633\n",
      "Epoch: 65\n",
      "---------\n",
      "\n",
      " Train Loss: 29.6878  | Train MAE: 4.3593\n",
      "\n",
      " Test Loss: 13.5908  | Test MAE: 3.01950204372406\n",
      "Current Best model found at epoch 65 with loss 13.5908.\n",
      "Epoch: 66\n",
      "---------\n",
      "\n",
      " Train Loss: 28.9236  | Train MAE: 4.2862\n",
      "Epoch: 67\n",
      "---------\n",
      "\n",
      " Train Loss: 31.4047  | Train MAE: 4.3734\n",
      "Epoch: 68\n",
      "---------\n",
      "\n",
      " Train Loss: 28.5908  | Train MAE: 4.3187\n",
      "Epoch: 69\n",
      "---------\n",
      "\n",
      " Train Loss: 31.2701  | Train MAE: 4.4771\n",
      "Epoch: 70\n",
      "---------\n",
      "\n",
      " Train Loss: 26.4882  | Train MAE: 4.1154\n",
      "\n",
      " Test Loss: 9.7211  | Test MAE: 2.537312865257263\n",
      "Current Best model found at epoch 70 with loss 9.7211.\n",
      "Epoch: 71\n",
      "---------\n"
     ]
    },
    {
     "name": "stderr",
     "output_type": "stream",
     "text": [
      "Training Epochs:   8%|▊         | 77/1000 [00:02<00:22, 41.13epoch/s]"
     ]
    },
    {
     "name": "stdout",
     "output_type": "stream",
     "text": [
      "\n",
      " Train Loss: 30.2455  | Train MAE: 4.4019\n",
      "Epoch: 72\n",
      "---------\n",
      "\n",
      " Train Loss: 28.8714  | Train MAE: 4.2667\n",
      "Epoch: 73\n",
      "---------\n",
      "\n",
      " Train Loss: 28.9243  | Train MAE: 4.3421\n",
      "Epoch: 74\n",
      "---------\n",
      "\n",
      " Train Loss: 31.8507  | Train MAE: 4.5126\n",
      "Epoch: 75\n",
      "---------\n",
      "\n",
      " Train Loss: 27.0012  | Train MAE: 4.2107\n",
      "\n",
      " Test Loss: 10.6593  | Test MAE: 2.66922664642334\n",
      "Validation Loss: 10.6593 did not improve compared to best loss: 9.7211. Counter: 1/5\n",
      "Epoch: 76\n",
      "---------\n",
      "\n",
      " Train Loss: 28.6708  | Train MAE: 4.3033\n",
      "Epoch: 77\n",
      "---------\n",
      "\n",
      " Train Loss: 31.1407  | Train MAE: 4.4373\n",
      "Epoch: 78\n",
      "---------\n",
      "\n",
      " Train Loss: 31.0289  | Train MAE: 4.4162\n",
      "Epoch: 79\n",
      "---------\n",
      "\n",
      " Train Loss: 26.9131  | Train MAE: 4.1489\n",
      "Epoch: 80\n",
      "---------\n"
     ]
    },
    {
     "name": "stderr",
     "output_type": "stream",
     "text": [
      "Training Epochs:   9%|▊         | 87/1000 [00:02<00:21, 41.72epoch/s]"
     ]
    },
    {
     "name": "stdout",
     "output_type": "stream",
     "text": [
      "\n",
      " Train Loss: 28.1671  | Train MAE: 4.2063\n",
      "\n",
      " Test Loss: 8.5881  | Test MAE: 2.3780252933502197\n",
      "Current Best model found at epoch 80 with loss 8.5881.\n",
      "Epoch: 81\n",
      "---------\n",
      "\n",
      " Train Loss: 26.8725  | Train MAE: 4.1960\n",
      "Epoch: 82\n",
      "---------\n",
      "\n",
      " Train Loss: 26.2889  | Train MAE: 4.1393\n",
      "Epoch: 83\n",
      "---------\n",
      "\n",
      " Train Loss: 30.8300  | Train MAE: 4.4102\n",
      "Epoch: 84\n",
      "---------\n",
      "\n",
      " Train Loss: 30.0135  | Train MAE: 4.3479\n",
      "Epoch: 85\n",
      "---------\n",
      "\n",
      " Train Loss: 31.1668  | Train MAE: 4.4337\n",
      "\n",
      " Test Loss: 9.0990  | Test MAE: 2.4670956134796143\n",
      "Validation Loss: 9.0990 did not improve compared to best loss: 8.5881. Counter: 1/5\n",
      "Epoch: 86\n",
      "---------\n",
      "\n",
      " Train Loss: 26.2241  | Train MAE: 4.0492\n",
      "Epoch: 87\n",
      "---------\n",
      "\n",
      " Train Loss: 26.3499  | Train MAE: 4.0859\n",
      "Epoch: 88\n",
      "---------\n",
      "\n",
      " Train Loss: 29.0142  | Train MAE: 4.2790\n",
      "Epoch: 89\n",
      "---------\n"
     ]
    },
    {
     "name": "stderr",
     "output_type": "stream",
     "text": [
      "Training Epochs:   9%|▉         | 92/1000 [00:02<00:22, 40.54epoch/s]"
     ]
    },
    {
     "name": "stdout",
     "output_type": "stream",
     "text": [
      "\n",
      " Train Loss: 26.3865  | Train MAE: 4.0957\n",
      "Epoch: 90\n",
      "---------\n",
      "\n",
      " Train Loss: 26.1633  | Train MAE: 4.1026\n",
      "\n",
      " Test Loss: 8.0229  | Test MAE: 2.3168078660964966\n",
      "Current Best model found at epoch 90 with loss 8.0229.\n",
      "Epoch: 91\n",
      "---------\n",
      "\n",
      " Train Loss: 26.8058  | Train MAE: 4.1218\n",
      "Epoch: 92\n",
      "---------\n",
      "\n",
      " Train Loss: 26.5847  | Train MAE: 4.1920\n",
      "Epoch: 93\n",
      "---------\n",
      "\n",
      " Train Loss: 23.4319  | Train MAE: 3.8664\n",
      "Epoch: 94\n",
      "---------\n",
      "\n",
      " Train Loss: 26.1794  | Train MAE: 4.1494\n",
      "Epoch: 95\n",
      "---------\n",
      "\n",
      " Train Loss: 25.1256  | Train MAE: 4.0025\n",
      "\n",
      " Test Loss: 8.7456  | Test MAE: 2.420468807220459\n",
      "Validation Loss: 8.7456 did not improve compared to best loss: 8.0229. Counter: 1/5\n",
      "Epoch: 96\n",
      "---------\n",
      "\n",
      " Train Loss: 25.8134  | Train MAE: 4.0802\n",
      "Epoch: 97\n",
      "---------\n",
      "\n",
      " Train Loss: 28.6315  | Train MAE: 4.2737\n"
     ]
    },
    {
     "name": "stderr",
     "output_type": "stream",
     "text": [
      "Training Epochs:  10%|█         | 102/1000 [00:02<00:21, 42.05epoch/s]"
     ]
    },
    {
     "name": "stdout",
     "output_type": "stream",
     "text": [
      "Epoch: 98\n",
      "---------\n",
      "\n",
      " Train Loss: 27.4746  | Train MAE: 4.2642\n",
      "Epoch: 99\n",
      "---------\n",
      "\n",
      " Train Loss: 25.7242  | Train MAE: 4.0992\n",
      "Epoch: 100\n",
      "---------\n",
      "\n",
      " Train Loss: 28.8586  | Train MAE: 4.3085\n",
      "\n",
      " Test Loss: 9.0578  | Test MAE: 2.4614330530166626\n",
      "Validation Loss: 9.0578 did not improve compared to best loss: 8.0229. Counter: 2/5\n",
      "Epoch: 101\n",
      "---------\n",
      "\n",
      " Train Loss: 25.6912  | Train MAE: 4.0670\n",
      "Epoch: 102\n",
      "---------\n",
      "\n",
      " Train Loss: 24.1812  | Train MAE: 3.9302\n",
      "Epoch: 103\n",
      "---------\n",
      "\n",
      " Train Loss: 26.6649  | Train MAE: 4.1224\n",
      "Epoch: 104\n",
      "---------\n",
      "\n",
      " Train Loss: 25.6976  | Train MAE: 4.0295\n",
      "Epoch: 105\n",
      "---------\n",
      "\n",
      " Train Loss: 25.6256  | Train MAE: 4.0767\n",
      "\n",
      " Test Loss: 7.8486  | Test MAE: 2.2963868379592896\n",
      "Current Best model found at epoch 105 with loss 7.8486.\n",
      "Epoch: 106\n",
      "---------\n"
     ]
    },
    {
     "name": "stderr",
     "output_type": "stream",
     "text": [
      "Training Epochs:  11%|█         | 112/1000 [00:02<00:21, 41.92epoch/s]"
     ]
    },
    {
     "name": "stdout",
     "output_type": "stream",
     "text": [
      "\n",
      " Train Loss: 24.2267  | Train MAE: 3.9483\n",
      "Epoch: 107\n",
      "---------\n",
      "\n",
      " Train Loss: 26.9979  | Train MAE: 4.1732\n",
      "Epoch: 108\n",
      "---------\n",
      "\n",
      " Train Loss: 22.4224  | Train MAE: 3.7996\n",
      "Epoch: 109\n",
      "---------\n",
      "\n",
      " Train Loss: 25.2032  | Train MAE: 4.0135\n",
      "Epoch: 110\n",
      "---------\n",
      "\n",
      " Train Loss: 25.7115  | Train MAE: 3.9896\n",
      "\n",
      " Test Loss: 7.8512  | Test MAE: 2.293102979660034\n",
      "Validation Loss: 7.8512 did not improve compared to best loss: 7.8486. Counter: 1/5\n",
      "Epoch: 111\n",
      "---------\n",
      "\n",
      " Train Loss: 27.2166  | Train MAE: 4.0962\n",
      "Epoch: 112\n",
      "---------\n",
      "\n",
      " Train Loss: 24.6428  | Train MAE: 3.9708\n",
      "Epoch: 113\n",
      "---------\n",
      "\n",
      " Train Loss: 25.7184  | Train MAE: 4.0426\n",
      "Epoch: 114\n",
      "---------\n",
      "\n",
      " Train Loss: 26.8131  | Train MAE: 4.1382\n",
      "Epoch: 115\n",
      "---------\n"
     ]
    },
    {
     "name": "stderr",
     "output_type": "stream",
     "text": [
      "Training Epochs:  12%|█▏        | 122/1000 [00:03<00:21, 40.71epoch/s]"
     ]
    },
    {
     "name": "stdout",
     "output_type": "stream",
     "text": [
      "\n",
      " Train Loss: 27.5270  | Train MAE: 4.2266\n",
      "\n",
      " Test Loss: 6.2647  | Test MAE: 2.0808680057525635\n",
      "Current Best model found at epoch 115 with loss 6.2647.\n",
      "Epoch: 116\n",
      "---------\n",
      "\n",
      " Train Loss: 25.2676  | Train MAE: 4.0325\n",
      "Epoch: 117\n",
      "---------\n",
      "\n",
      " Train Loss: 24.5004  | Train MAE: 3.9208\n",
      "Epoch: 118\n",
      "---------\n",
      "\n",
      " Train Loss: 23.5349  | Train MAE: 3.8476\n",
      "Epoch: 119\n",
      "---------\n",
      "\n",
      " Train Loss: 24.5785  | Train MAE: 3.9954\n",
      "Epoch: 120\n",
      "---------\n",
      "\n",
      " Train Loss: 24.4818  | Train MAE: 3.9586\n",
      "\n",
      " Test Loss: 6.5782  | Test MAE: 2.1218156814575195\n",
      "Validation Loss: 6.5782 did not improve compared to best loss: 6.2647. Counter: 1/5\n",
      "Epoch: 121\n",
      "---------\n",
      "\n",
      " Train Loss: 22.8314  | Train MAE: 3.8117\n",
      "Epoch: 122\n",
      "---------\n",
      "\n",
      " Train Loss: 24.2454  | Train MAE: 3.9721\n",
      "Epoch: 123\n",
      "---------\n",
      "\n",
      " Train Loss: 26.6390  | Train MAE: 4.1755\n",
      "Epoch: 124\n",
      "---------\n"
     ]
    },
    {
     "name": "stderr",
     "output_type": "stream",
     "text": [
      "Training Epochs:  13%|█▎        | 127/1000 [00:03<00:21, 40.83epoch/s]"
     ]
    },
    {
     "name": "stdout",
     "output_type": "stream",
     "text": [
      "\n",
      " Train Loss: 24.6362  | Train MAE: 3.9279\n",
      "Epoch: 125\n",
      "---------\n",
      "\n",
      " Train Loss: 24.3874  | Train MAE: 3.9298\n",
      "\n",
      " Test Loss: 7.1065  | Test MAE: 2.1913504600524902\n",
      "Validation Loss: 7.1065 did not improve compared to best loss: 6.2647. Counter: 2/5\n",
      "Epoch: 126\n",
      "---------\n",
      "\n",
      " Train Loss: 24.3794  | Train MAE: 3.9649\n",
      "Epoch: 127\n",
      "---------\n",
      "\n",
      " Train Loss: 25.5778  | Train MAE: 4.1066\n",
      "Epoch: 128\n",
      "---------\n",
      "\n",
      " Train Loss: 24.5490  | Train MAE: 3.9985\n",
      "Epoch: 129\n",
      "---------\n",
      "\n",
      " Train Loss: 23.3864  | Train MAE: 3.8719\n",
      "Epoch: 130\n",
      "---------\n",
      "\n",
      " Train Loss: 25.2128  | Train MAE: 3.9907\n",
      "\n",
      " Test Loss: 6.8909  | Test MAE: 2.1665127277374268\n",
      "Validation Loss: 6.8909 did not improve compared to best loss: 6.2647. Counter: 3/5\n",
      "Epoch: 131\n",
      "---------\n",
      "\n",
      " Train Loss: 26.9210  | Train MAE: 4.1662\n",
      "Epoch: 132\n",
      "---------\n",
      "\n",
      " Train Loss: 22.7701  | Train MAE: 3.8219\n"
     ]
    },
    {
     "name": "stderr",
     "output_type": "stream",
     "text": [
      "Training Epochs:  14%|█▎        | 137/1000 [00:03<00:24, 35.52epoch/s]"
     ]
    },
    {
     "name": "stdout",
     "output_type": "stream",
     "text": [
      "Epoch: 133\n",
      "---------\n",
      "\n",
      " Train Loss: 21.6552  | Train MAE: 3.7573\n",
      "Epoch: 134\n",
      "---------\n",
      "\n",
      " Train Loss: 25.3266  | Train MAE: 4.0287\n",
      "Epoch: 135\n",
      "---------\n",
      "\n",
      " Train Loss: 23.4949  | Train MAE: 3.8487\n",
      "\n",
      " Test Loss: 8.6655  | Test MAE: 2.397099256515503\n",
      "Validation Loss: 8.6655 did not improve compared to best loss: 6.2647. Counter: 4/5\n",
      "Epoch: 136\n",
      "---------\n",
      "\n",
      " Train Loss: 24.2085  | Train MAE: 3.9490\n",
      "Epoch: 137\n",
      "---------\n",
      "\n",
      " Train Loss: 23.3010  | Train MAE: 3.8656\n"
     ]
    },
    {
     "name": "stderr",
     "output_type": "stream",
     "text": [
      "Training Epochs:  14%|█▍        | 142/1000 [00:03<00:22, 37.97epoch/s]"
     ]
    },
    {
     "name": "stdout",
     "output_type": "stream",
     "text": [
      "Epoch: 138\n",
      "---------\n",
      "\n",
      " Train Loss: 22.0825  | Train MAE: 3.7343\n",
      "Epoch: 139\n",
      "---------\n",
      "\n",
      " Train Loss: 24.5533  | Train MAE: 3.9940\n",
      "Epoch: 140\n",
      "---------\n",
      "\n",
      " Train Loss: 22.1768  | Train MAE: 3.7832\n",
      "\n",
      " Test Loss: 5.5633  | Test MAE: 1.9897936582565308\n",
      "Current Best model found at epoch 140 with loss 5.5633.\n",
      "Epoch: 141\n",
      "---------\n",
      "\n",
      " Train Loss: 22.9120  | Train MAE: 3.8144\n",
      "Epoch: 142\n",
      "---------\n",
      "\n",
      " Train Loss: 21.9394  | Train MAE: 3.7416\n",
      "Epoch: 143\n",
      "---------\n",
      "\n",
      " Train Loss: 24.4971  | Train MAE: 3.9975\n",
      "Epoch: 144\n",
      "---------\n",
      "\n",
      " Train Loss: 22.2001  | Train MAE: 3.7650\n",
      "Epoch: 145\n",
      "---------\n",
      "\n",
      " Train Loss: 24.0321  | Train MAE: 3.9433\n",
      "\n",
      " Test Loss: 6.4242  | Test MAE: 2.099351167678833\n",
      "Validation Loss: 6.4242 did not improve compared to best loss: 5.5633. Counter: 1/5\n",
      "Epoch: 146\n",
      "---------\n",
      "\n",
      " Train Loss: 20.0832  | Train MAE: 3.6161\n",
      "Epoch: 147\n",
      "---------\n"
     ]
    },
    {
     "name": "stderr",
     "output_type": "stream",
     "text": [
      "Training Epochs:  15%|█▌        | 152/1000 [00:03<00:20, 40.39epoch/s]"
     ]
    },
    {
     "name": "stdout",
     "output_type": "stream",
     "text": [
      "\n",
      " Train Loss: 25.1824  | Train MAE: 4.0483\n",
      "Epoch: 148\n",
      "---------\n",
      "\n",
      " Train Loss: 22.2891  | Train MAE: 3.7726\n",
      "Epoch: 149\n",
      "---------\n",
      "\n",
      " Train Loss: 20.2770  | Train MAE: 3.6560\n",
      "Epoch: 150\n",
      "---------\n",
      "\n",
      " Train Loss: 23.2192  | Train MAE: 3.8433\n",
      "\n",
      " Test Loss: 6.7531  | Test MAE: 2.142976760864258\n",
      "Validation Loss: 6.7531 did not improve compared to best loss: 5.5633. Counter: 2/5\n",
      "Epoch: 151\n",
      "---------\n",
      "\n",
      " Train Loss: 22.7617  | Train MAE: 3.7915\n",
      "Epoch: 152\n",
      "---------\n",
      "\n",
      " Train Loss: 22.1729  | Train MAE: 3.7381\n",
      "Epoch: 153\n",
      "---------\n",
      "\n",
      " Train Loss: 24.9771  | Train MAE: 4.0006\n",
      "Epoch: 154\n",
      "---------\n",
      "\n",
      " Train Loss: 21.7371  | Train MAE: 3.7558\n",
      "Epoch: 155\n",
      "---------\n",
      "\n",
      " Train Loss: 21.6626  | Train MAE: 3.7084\n",
      "\n",
      " Test Loss: 5.4836  | Test MAE: 1.9808350801467896\n",
      "Current Best model found at epoch 155 with loss 5.4836.\n",
      "Epoch: 156\n",
      "---------\n"
     ]
    },
    {
     "name": "stderr",
     "output_type": "stream",
     "text": [
      "Training Epochs:  16%|█▌        | 162/1000 [00:04<00:21, 39.26epoch/s]"
     ]
    },
    {
     "name": "stdout",
     "output_type": "stream",
     "text": [
      "\n",
      " Train Loss: 22.4289  | Train MAE: 3.8228\n",
      "Epoch: 157\n",
      "---------\n",
      "\n",
      " Train Loss: 21.2200  | Train MAE: 3.6574\n",
      "Epoch: 158\n",
      "---------\n",
      "\n",
      " Train Loss: 21.7108  | Train MAE: 3.7379\n",
      "Epoch: 159\n",
      "---------\n",
      "\n",
      " Train Loss: 21.7958  | Train MAE: 3.7708\n",
      "Epoch: 160\n",
      "---------\n",
      "\n",
      " Train Loss: 21.8509  | Train MAE: 3.7846\n",
      "\n",
      " Test Loss: 6.4084  | Test MAE: 2.098557949066162\n",
      "Validation Loss: 6.4084 did not improve compared to best loss: 5.4836. Counter: 1/5\n",
      "Epoch: 161\n",
      "---------\n",
      "\n",
      " Train Loss: 22.1462  | Train MAE: 3.8023\n",
      "Epoch: 162\n",
      "---------\n",
      "\n",
      " Train Loss: 22.1228  | Train MAE: 3.7279\n",
      "Epoch: 163\n",
      "---------\n",
      "\n",
      " Train Loss: 21.2465  | Train MAE: 3.6985\n",
      "Epoch: 164\n",
      "---------\n"
     ]
    },
    {
     "name": "stderr",
     "output_type": "stream",
     "text": [
      "Training Epochs:  17%|█▋        | 170/1000 [00:04<00:22, 37.32epoch/s]"
     ]
    },
    {
     "name": "stdout",
     "output_type": "stream",
     "text": [
      "\n",
      " Train Loss: 21.8601  | Train MAE: 3.7375\n",
      "Epoch: 165\n",
      "---------\n",
      "\n",
      " Train Loss: 21.3974  | Train MAE: 3.6749\n",
      "\n",
      " Test Loss: 6.0381  | Test MAE: 2.0498112440109253\n",
      "Validation Loss: 6.0381 did not improve compared to best loss: 5.4836. Counter: 2/5\n",
      "Epoch: 166\n",
      "---------\n",
      "\n",
      " Train Loss: 21.1944  | Train MAE: 3.7279\n",
      "Epoch: 167\n",
      "---------\n",
      "\n",
      " Train Loss: 18.8796  | Train MAE: 3.4774\n",
      "Epoch: 168\n",
      "---------\n",
      "\n",
      " Train Loss: 21.9129  | Train MAE: 3.7669\n",
      "Epoch: 169\n",
      "---------\n",
      "\n",
      " Train Loss: 22.6058  | Train MAE: 3.7983\n",
      "Epoch: 170\n",
      "---------\n",
      "\n",
      " Train Loss: 22.0811  | Train MAE: 3.8072\n",
      "\n",
      " Test Loss: 7.0839  | Test MAE: 2.1832195520401\n",
      "Validation Loss: 7.0839 did not improve compared to best loss: 5.4836. Counter: 3/5\n",
      "Epoch: 171\n",
      "---------\n",
      "\n",
      " Train Loss: 22.4424  | Train MAE: 3.7856\n",
      "Epoch: 172\n",
      "---------\n"
     ]
    },
    {
     "name": "stderr",
     "output_type": "stream",
     "text": [
      "Training Epochs:  18%|█▊        | 178/1000 [00:04<00:21, 37.40epoch/s]"
     ]
    },
    {
     "name": "stdout",
     "output_type": "stream",
     "text": [
      "\n",
      " Train Loss: 21.5563  | Train MAE: 3.6799\n",
      "Epoch: 173\n",
      "---------\n",
      "\n",
      " Train Loss: 22.0607  | Train MAE: 3.7873\n",
      "Epoch: 174\n",
      "---------\n",
      "\n",
      " Train Loss: 21.4079  | Train MAE: 3.6962\n",
      "Epoch: 175\n",
      "---------\n",
      "\n",
      " Train Loss: 20.7837  | Train MAE: 3.6453\n",
      "\n",
      " Test Loss: 6.7742  | Test MAE: 2.143711805343628\n",
      "Validation Loss: 6.7742 did not improve compared to best loss: 5.4836. Counter: 4/5\n",
      "Epoch: 176\n",
      "---------\n",
      "\n",
      " Train Loss: 21.8073  | Train MAE: 3.7567\n",
      "Epoch: 177\n",
      "---------\n",
      "\n",
      " Train Loss: 22.6062  | Train MAE: 3.8065\n",
      "Epoch: 178\n",
      "---------\n",
      "\n",
      " Train Loss: 20.7920  | Train MAE: 3.6603\n",
      "Epoch: 179\n",
      "---------\n",
      "\n",
      " Train Loss: 20.8220  | Train MAE: 3.6728\n",
      "Epoch: 180\n",
      "---------\n"
     ]
    },
    {
     "name": "stderr",
     "output_type": "stream",
     "text": [
      "Training Epochs:  18%|█▊        | 179/1000 [00:04<00:21, 37.97epoch/s]"
     ]
    },
    {
     "name": "stdout",
     "output_type": "stream",
     "text": [
      "\n",
      " Train Loss: 21.6268  | Train MAE: 3.7336\n",
      "\n",
      " Test Loss: 7.4321  | Test MAE: 2.2271498441696167\n",
      "Validation Loss: 7.4321 did not improve compared to best loss: 5.4836. Counter: 5/5\n",
      "Early stopping triggered after 5 checks without improvement.\n",
      "🛑 Early stopping!\n"
     ]
    },
    {
     "name": "stderr",
     "output_type": "stream",
     "text": [
      "\n"
     ]
    }
   ],
   "source": [
    "torch.manual_seed(42)\n",
    "torch.cuda.manual_seed(42)\n",
    "\n",
    "from timeit import default_timer as timer\n",
    "from tqdm.auto import tqdm ## For progress bar\n",
    "\n",
    "validate_every_n_epochs = 5  # Run validation every 2 epochs\n",
    "\n",
    "early_stopper = EarlyStopping(patience=5, min_delta=1e-3)\n",
    "\n",
    "epochs=1000\n",
    "\n",
    "\n",
    "train_time_on_device_start=timer()\n",
    "\n",
    "for epoch in tqdm(range(1,epochs+1), desc=\"Training Epochs\", unit=\"epoch\"):\n",
    "  print(f\"Epoch: {epoch}\\n---------\")\n",
    "\n",
    "\n",
    "  train_step(model=model,\n",
    "             dataloader=train_loader,\n",
    "             loss_fn=loss_fn,\n",
    "             optimizer=optimizer,\n",
    "             device=device,\n",
    "             mae_func=calculate_mae)\n",
    "\n",
    "  # Check if this is a validation epoch\n",
    "  if epoch % validate_every_n_epochs == 0:\n",
    "    test_step(model=model,\n",
    "              dataloader=val_loader,\n",
    "              loss_fn=loss_fn,\n",
    "              device=device,\n",
    "              mae_func=calculate_mae)\n",
    "\n",
    "    # Use the latest validation (test) loss for early stopping\n",
    "    current_val_loss = test_loss_arr[-1]\n",
    "    early_stopper(model, current_val_loss, epoch)\n",
    "\n",
    "    if early_stopper.early_stop:\n",
    "      print(\"🛑 Early stopping!\")\n",
    "      break\n",
    "\n",
    "  else:\n",
    "    # Append NaNs or placeholders so arrays match in size\n",
    "      test_loss_arr.append(float('nan'))\n",
    "      test_mae_arr.append(float('nan'))\n",
    "\n",
    "\n",
    "train_time_on_device_end=timer()\n",
    "\n",
    "\n",
    "# 🌟 Finalize early stopping\n",
    "if not early_stopper.early_stop:\n",
    "    print(\"✅ Training completed all epochs without triggering early stop. Restoring best weights...\")\n",
    "    early_stopper.getBestModel(model)"
   ]
  },
  {
   "cell_type": "code",
   "execution_count": 91,
   "id": "00759857",
   "metadata": {},
   "outputs": [
    {
     "data": {
      "image/png": "[encoded data removed]",
      "text/plain": [
       "<Figure size 800x600 with 1 Axes>"
      ]
     },
     "metadata": {},
     "output_type": "display_data"
    }
   ],
   "source": [
    "## Loss Curve\n",
    "\n",
    "## Using the train-test loss array plot the loss over epochs\n",
    "\n",
    "epochs_range = np.arange(1, len(train_loss_arr) + 1)\n",
    "\n",
    "# Get the best epoch and corresponding loss value\n",
    "best_epoch = early_stopper.best_epoch\n",
    "best_loss = early_stopper.best_loss\n",
    "\n",
    "## Get the numpy array to mask nan vals\n",
    "test_loss_np = np.array(test_loss_arr, dtype=np.float32)\n",
    "# Get only the valid test loss values (non-NaN)\n",
    "valid_indices = ~np.isnan(test_loss_np)\n",
    "valid_test_epochs = epochs_range[valid_indices]\n",
    "valid_test_loss = test_loss_np[valid_indices]\n",
    "\n",
    "\n",
    "plt.figure(figsize=(8, 6))\n",
    "plt.plot(epochs_range, train_loss_arr, label='Training Loss')\n",
    "plt.plot(valid_test_epochs,valid_test_loss, label='Test Loss')\n",
    "\n",
    "# Highlight the best epoch\n",
    "plt.scatter(best_epoch , best_loss, color='red', label=f'Best Epoch ({best_epoch})', zorder=5)\n",
    "\n",
    "plt.xlabel('Epochs')\n",
    "plt.ylabel('Loss')\n",
    "plt.title('Loss Over Epochs')\n",
    "plt.legend()\n",
    "plt.grid(True)\n",
    "plt.tight_layout()\n",
    "plt.show()\n"
   ]
  },
  {
   "cell_type": "code",
   "execution_count": 92,
   "id": "7c91b760",
   "metadata": {},
   "outputs": [
    {
     "data": {
      "image/png": "[encoded data removed]",
      "text/plain": [
       "<Figure size 800x600 with 1 Axes>"
      ]
     },
     "metadata": {},
     "output_type": "display_data"
    }
   ],
   "source": [
    "## Accuracy Curve\n",
    "# Plotting\n",
    "epochs_range = np.arange(1, len(train_acc_arr) + 1)\n",
    "\n",
    "\n",
    "## Get the numpy array to mask nan vals\n",
    "test_acc_np = np.array(test_acc_arr, dtype=np.float32)\n",
    "# Get only the valid test loss values (non-NaN)\n",
    "valid_indices = ~np.isnan(test_acc_np)\n",
    "valid_test_epochs = epochs_range[valid_indices]\n",
    "valid_test_acc = test_acc_np[valid_indices]\n",
    "\n",
    "plt.figure(figsize=(8, 6))\n",
    "plt.plot(epochs_range, train_acc_arr, label='Training Accuracy')\n",
    "plt.plot(valid_test_epochs, valid_test_acc, label='Test Accuracy')\n",
    "\n",
    "\n",
    "plt.xlabel('Epochs')\n",
    "plt.ylabel('Accuracy')\n",
    "plt.title('Accuracy Over Epochs')\n",
    "plt.legend()\n",
    "plt.grid(True)\n",
    "plt.tight_layout()\n",
    "plt.show()\n"
   ]
  },
  {
   "cell_type": "markdown",
   "id": "5d0c00fc",
   "metadata": {},
   "source": [
    "### Inference"
   ]
  },
  {
   "cell_type": "code",
   "execution_count": 93,
   "id": "b81ae06f",
   "metadata": {},
   "outputs": [],
   "source": [
    "from tqdm import tqdm\n",
    "from sklearn.metrics import precision_score, recall_score, f1_score, accuracy_score\n",
    "from torchmetrics import ConfusionMatrix\n",
    "from mlxtend.plotting import plot_confusion_matrix\n"
   ]
  },
  {
   "cell_type": "code",
   "execution_count": 94,
   "id": "09e13058",
   "metadata": {},
   "outputs": [],
   "source": [
    "def make_predictions(\n",
    "    model: torch.nn.Module,\n",
    "    dataloader: torch.utils.data.DataLoader,\n",
    "    device: torch.device = torch.device(\"cuda\" if torch.cuda.is_available() else \"cpu\")\n",
    "):\n",
    "    y_preds = []\n",
    "    y_true = []\n",
    "\n",
    "    model.to(device)\n",
    "    model.eval()\n",
    "\n",
    "    with torch.inference_mode():\n",
    "        for X, y in tqdm(dataloader, desc=\"Making predictions...\"):\n",
    "            X, y = X.to(device), y.to(device)\n",
    "\n",
    "            # Forward pass\n",
    "            y_logit = model(X)\n",
    "\n",
    "            # Get prediction probabilities and predicted labels\n",
    "            y_pred = torch.softmax(y_logit, dim=1).argmax(dim=1)\n",
    "\n",
    "            # Collect predictions and true labels\n",
    "            y_preds.append(y_pred.cpu())\n",
    "            y_true.append(y.cpu())\n",
    "\n",
    "    # Combine all predictions and true labels into tensors\n",
    "    y_preds = torch.cat(y_preds)\n",
    "    y_true = torch.cat(y_true)\n",
    "\n",
    "    return y_preds, y_true\n"
   ]
  },
  {
   "cell_type": "code",
   "execution_count": 95,
   "id": "3f9bc387",
   "metadata": {},
   "outputs": [
    {
     "name": "stderr",
     "output_type": "stream",
     "text": [
      "Making predictions...: 100%|██████████| 7/7 [00:00<00:00, 360.80it/s]\n"
     ]
    }
   ],
   "source": [
    "y_preds_test,y_true_test=make_predictions(model=model,\n",
    "                 dataloader=val_loader)"
   ]
  },
  {
   "cell_type": "code",
   "execution_count": 96,
   "id": "475f4646",
   "metadata": {},
   "outputs": [],
   "source": [
    "confmat = ConfusionMatrix(num_classes=len(le.classes_),task=\"multiclass\")\n",
    "\n",
    "confmat_tensor=confmat(preds=y_preds_test,target=y_true_test)\n"
   ]
  },
  {
   "cell_type": "code",
   "execution_count": 97,
   "id": "c7bc0fab",
   "metadata": {},
   "outputs": [
    {
     "data": {
      "image/png": "[encoded data removed]",
      "text/plain": [
       "<Figure size 1500x1200 with 1 Axes>"
      ]
     },
     "metadata": {},
     "output_type": "display_data"
    }
   ],
   "source": [
    "## Plot the confusion matrix\n",
    "\n",
    "\n",
    "\n",
    "fig,ax=plot_confusion_matrix(conf_mat=confmat_tensor.numpy(),\n",
    "                           figsize=(15,12),\n",
    "                           class_names=le.classes_)\n",
    "\n",
    "plt.show()"
   ]
  },
  {
   "cell_type": "code",
   "execution_count": 98,
   "id": "4758270c",
   "metadata": {},
   "outputs": [
    {
     "name": "stdout",
     "output_type": "stream",
     "text": [
      "Precision for Testing Data: 0.9774\n",
      "Recall for Testing Data: 0.9750\n",
      "F1-score for Testing Data: 0.9752\n",
      "Accuracy for Testing Data: 0.9750\n"
     ]
    }
   ],
   "source": [
    "## Metrics\n",
    "\n",
    "precision = precision_score(y_true_test, y_preds_test, average='weighted')\n",
    "recall = recall_score(y_true_test, y_preds_test, average='weighted')\n",
    "f1 = f1_score(y_true_test, y_preds_test, average='weighted')\n",
    "accuracy=accuracy_score(y_true_test, y_preds_test)\n",
    "\n",
    "\n",
    "print(f\"Precision for Testing Data: {precision:.4f}\")\n",
    "print(f\"Recall for Testing Data: {recall:.4f}\")\n",
    "print(f\"F1-score for Testing Data: {f1:.4f}\")\n",
    "print(f\"Accuracy for Testing Data: {accuracy:.4f}\")"
   ]
  },
  {
   "cell_type": "markdown",
   "id": "5629e840",
   "metadata": {},
   "source": [
    "### Saving the Model"
   ]
  },
  {
   "cell_type": "code",
   "execution_count": 8,
   "id": "0c21667d",
   "metadata": {},
   "outputs": [],
   "source": [
    "import os\n",
    "os.makedirs(os.path.join(os.getcwd(),\"models\"),exist_ok=True)\n",
    "MODEL_NAME=\"crop_recommendation_model.pt\"\n",
    "MODEL_PATH=os.path.join(os.getcwd(),\"models\",MODEL_NAME)"
   ]
  },
  {
   "cell_type": "code",
   "execution_count": 100,
   "id": "20f0c40f",
   "metadata": {},
   "outputs": [
    {
     "name": "stdout",
     "output_type": "stream",
     "text": [
      "Saving model to: c:\\Users\\nirma\\OneDrive\\Desktop\\EPICS\\Crop Recommendation\\models\\crop_recommendation_model.pt\n"
     ]
    }
   ],
   "source": [
    "print(f\"Saving model to: {MODEL_PATH}\")\n",
    "torch.save(obj=model.state_dict(),f=MODEL_PATH)"
   ]
  },
  {
   "cell_type": "code",
   "execution_count": 9,
   "id": "7482b2c5",
   "metadata": {},
   "outputs": [
    {
     "data": {
      "text/plain": [
       "<All keys matched successfully>"
      ]
     },
     "execution_count": 9,
     "metadata": {},
     "output_type": "execute_result"
    }
   ],
   "source": [
    "## Loading Model\n",
    "\n",
    "loaded_model=TabularNet(input_dim=7,output_dim=22).to(device)\n",
    "loaded_model.load_state_dict(torch.load(f=MODEL_PATH, weights_only=True))"
   ]
  },
  {
   "cell_type": "code",
   "execution_count": 10,
   "id": "a64e084b",
   "metadata": {},
   "outputs": [
    {
     "data": {
      "text/plain": [
       "tensor([[ -0.2049,  22.6507, -42.4419, -24.9634, -53.0019, -33.6169,  -9.1968,\n",
       "           6.4448,  -7.3792, -39.5985, -43.5422, -41.4738, -72.2004, -45.8508,\n",
       "         -33.3523, -29.9237, -19.3804, -11.8950, -25.7278, -43.8373,   0.5906,\n",
       "         -36.8051]])"
      ]
     },
     "execution_count": 10,
     "metadata": {},
     "output_type": "execute_result"
    }
   ],
   "source": [
    "loaded_model.eval()\n",
    "with torch.no_grad():\n",
    "    logits = loaded_model(torch.tensor([5.1, 3.5, 1.4, 0.2, 0.8, 2.3, 1.1],dtype=torch.float32).unsqueeze(0))\n",
    "\n",
    "logits"
   ]
  },
  {
   "cell_type": "code",
   "execution_count": null,
   "id": "43a9d786",
   "metadata": {},
   "outputs": [
    {
     "data": {
      "text/plain": [
       "1"
      ]
     },
     "execution_count": 108,
     "metadata": {},
     "output_type": "execute_result"
    }
   ],
   "source": [
    "torch.argmax(logits, dim=1).item()\n"
   ]
  },
  {
   "cell_type": "code",
   "execution_count": 29,
   "id": "e04557cb",
   "metadata": {},
   "outputs": [
    {
     "data": {
      "text/plain": [
       "(tensor([[1.0000e+00, 9.1595e-08, 2.6269e-10]]), tensor([[ 1,  7, 20]]))"
      ]
     },
     "execution_count": 29,
     "metadata": {},
     "output_type": "execute_result"
    }
   ],
   "source": [
    "# Get top 3 class indices and scores\n",
    "import torch.nn.functional  as F\n",
    "\n",
    "probs = F.softmax(logits, dim=1)\n",
    "topk_values, topk_indices = torch.topk(probs, k=3, dim=1)\n",
    "topk_values,topk_indices"
   ]
  },
  {
   "cell_type": "code",
   "execution_count": 36,
   "id": "2d9ebbc5",
   "metadata": {},
   "outputs": [
    {
     "data": {
      "text/plain": [
       "[1, 7, 20]"
      ]
     },
     "execution_count": 36,
     "metadata": {},
     "output_type": "execute_result"
    }
   ],
   "source": [
    "topk_indices.tolist()[0]"
   ]
  },
  {
   "cell_type": "code",
   "execution_count": 37,
   "id": "80b154ed",
   "metadata": {},
   "outputs": [
    {
     "data": {
      "text/plain": [
       "array(['banana', 'grapes', 'rice'], dtype=object)"
      ]
     },
     "execution_count": 37,
     "metadata": {},
     "output_type": "execute_result"
    }
   ],
   "source": [
    "# Flatten to 1D lists\n",
    "topk_indices = topk_indices.tolist()[0]\n",
    "topk_values = topk_values.tolist()[0]\n",
    "# Decode class names\n",
    "topk_labels = le.inverse_transform(topk_indices)\n",
    "topk_labels"
   ]
  },
  {
   "cell_type": "code",
   "execution_count": 42,
   "id": "25a86227",
   "metadata": {},
   "outputs": [
    {
     "data": {
      "text/plain": [
       "[{'label': 'banana', 'probability': 1.0},\n",
       " {'label': 'grapes', 'probability': 0.0},\n",
       " {'label': 'rice', 'probability': 0.0}]"
      ]
     },
     "execution_count": 42,
     "metadata": {},
     "output_type": "execute_result"
    }
   ],
   "source": [
    "# Combine into a list of (label, probability) pairs\n",
    "topk_predictions = [\n",
    "    {\"label\": label, \"probability\": round(float(prob), 4)}\n",
    "    for label, prob in zip(topk_labels, topk_values)\n",
    "]\n",
    "\n",
    "topk_predictions"
   ]
  },
  {
   "cell_type": "code",
   "execution_count": 111,
   "id": "2a95cb3c",
   "metadata": {},
   "outputs": [
    {
     "data": {
      "text/plain": [
       "'banana'"
      ]
     },
     "execution_count": 111,
     "metadata": {},
     "output_type": "execute_result"
    }
   ],
   "source": [
    "pred_idx = torch.argmax(logits, dim=1).item()\n",
    "le.inverse_transform([pred_idx])[0]\n"
   ]
  },
  {
   "cell_type": "code",
   "execution_count": 14,
   "id": "cce17612",
   "metadata": {},
   "outputs": [],
   "source": [
    "def infer(input_list,loaded_model,label_encoder,preprocessor):\n",
    "    \"\"\"\n",
    "    Takes a list of 7 numeric features and returns the predicted class label.\n",
    "    \"\"\"\n",
    "    # Validate input length\n",
    "    assert len(input_list) == 7, \"Input must have exactly 7 features.\"\n",
    "\n",
    "    # Convert to 2D DataFrame\n",
    "    input_df = pd.DataFrame([input_list], columns=[\"N\",\"P\",\"K\",\"temperature\",\"humidity\",\"ph\",\"rainfall\"])\n",
    "\n",
    "    # Preprocess\n",
    "    processed_input = preprocessor.transform(input_df)\n",
    "\n",
    "    # Convert to tensor\n",
    "    input_tensor = torch.tensor(processed_input, dtype=torch.float32).to(device)\n",
    "\n",
    "    # Predict\n",
    "    loaded_model.eval()\n",
    "    with torch.no_grad():\n",
    "        logits = loaded_model(input_tensor)\n",
    "        pred_idx = torch.argmax(logits, dim=1).item()\n",
    "\n",
    "    # Decode label\n",
    "    predicted_label = label_encoder.inverse_transform([pred_idx])[0]\n",
    "\n",
    "    return predicted_label"
   ]
  },
  {
   "cell_type": "code",
   "execution_count": 16,
   "id": "ea7379ce",
   "metadata": {},
   "outputs": [
    {
     "name": "stdout",
     "output_type": "stream",
     "text": [
      "Predicted class: pigeonpeas\n"
     ]
    }
   ],
   "source": [
    "new_data = [25,64,20,33.15122581,32.45974539,4.807776748999999,105.03802749999998]  # example input\n",
    "prediction = infer(new_data,loaded_model,le,preprocessor)\n",
    "print(\"Predicted class:\", prediction)\n"
   ]
  }
 ],
 "metadata": {
  "kernelspec": {
   "display_name": "Python 3",
   "language": "python",
   "name": "python3"
  },
  "language_info": {
   "codemirror_mode": {
    "name": "ipython",
    "version": 3
   },
   "file_extension": ".py",
   "mimetype": "text/x-python",
   "name": "python",
   "nbconvert_exporter": "python",
   "pygments_lexer": "ipython3",
   "version": "3.12.6"
  }
 },
 "nbformat": 4,
 "nbformat_minor": 5
}
